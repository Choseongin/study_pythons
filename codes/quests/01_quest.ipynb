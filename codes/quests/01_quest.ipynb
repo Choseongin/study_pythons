{
  "nbformat": 4,
  "nbformat_minor": 0,
  "metadata": {
    "colab": {
      "provenance": [],
      "authorship_tag": "ABX9TyOMcwIkojQ/TrjChigLe+N2",
      "include_colab_link": true
    },
    "kernelspec": {
      "name": "python3",
      "display_name": "Python 3"
    },
    "language_info": {
      "name": "python"
    }
  },
  "cells": [
    {
      "cell_type": "markdown",
      "metadata": {
        "id": "view-in-github",
        "colab_type": "text"
      },
      "source": [
        "<a href=\"https://colab.research.google.com/github/Choseongin/study_pythons/blob/main/codes/quests/01_quest.ipynb\" target=\"_parent\"><img src=\"https://colab.research.google.com/assets/colab-badge.svg\" alt=\"Open In Colab\"/></a>"
      ]
    },
    {
      "cell_type": "code",
      "execution_count": 6,
      "metadata": {
        "colab": {
          "base_uri": "https://localhost:8080/"
        },
        "id": "vkNMi8l8z20o",
        "outputId": "f2926d03-3275-4c58-c26d-1e18ca812522"
      },
      "outputs": [
        {
          "output_type": "stream",
          "name": "stdout",
          "text": [
            "first input:3\n",
            "second input3\n",
            " 9 =  3 * 3\n"
          ]
        }
      ],
      "source": [
        "first=input('first input:')\n",
        "second=input('second input')\n",
        "first_value=int(first)\n",
        "second_value=int(second)\n",
        "\n",
        "result = first_value *  second_value\n",
        "print(f' {result} =  {first_value} * {second_value}')\n"
      ]
    },
    {
      "cell_type": "code",
      "source": [],
      "metadata": {
        "id": "nE_tKtp51LVF"
      },
      "execution_count": null,
      "outputs": []
    }
  ]
}